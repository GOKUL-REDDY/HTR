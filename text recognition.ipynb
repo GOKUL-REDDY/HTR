{
 "cells": [
  {
   "cell_type": "code",
   "execution_count": 1,
   "metadata": {},
   "outputs": [],
   "source": [
    "import pytesseract\n",
    "import numpy as np\n",
    "import cv2\n",
    "from PIL import Image\n",
    "%matplotlib inline\n",
    "import os\n",
    "import matplotlib.pyplot as plt\n",
    "from PIL import Image, ImageEnhance\n",
    "\n",
    "\n",
    "pytesseract.pytesseract.tesseract_cmd = r'C:\\Users\\91901\\AppData\\Local\\Tesseract-OCR\\tesseract.exe'\n"
   ]
  },
  {
   "cell_type": "code",
   "execution_count": 2,
   "metadata": {},
   "outputs": [],
   "source": [
    "\n",
    "\n",
    "# read\n",
    "img = cv2.imread(\"Folder/tester.jpeg\", cv2.IMREAD_GRAYSCALE)\n",
    "im = Image.open(\"Folder/tester.jpeg\")\n",
    "# increase contrast\n",
    "pxmin = np.min(img)\n",
    "pxmax = np.max(img)\n",
    "imgContrast = (img - pxmin) / (pxmax - pxmin) * 255\n",
    "# increase line width\n",
    "kernel = np.ones((1, 1), np.uint8)\n",
    "imgMorph = cv2.erode(imgContrast, kernel, iterations = 5)\n",
    "cv2.imwrite('Folder/1.jpeg', imgMorph)\n",
    "for i in range(1,25):\n",
    "    j=i/4\n",
    "#image brightness enhancer\n",
    "    enhancer = ImageEnhance.Brightness(im)\n",
    "    factor = j #brightens the image\n",
    "    im_output = enhancer.enhance(factor)\n",
    "    im_output.save(\"Folder/\"+str(i)+\".jpeg\")\n",
    "\n",
    "\n"
   ]
  },
  {
   "cell_type": "code",
   "execution_count": 36,
   "metadata": {},
   "outputs": [
    {
     "name": "stdout",
     "output_type": "stream",
     "text": [
      "| | . | i el\n",
      "\n",
      "G vecubedy LOOKS le he HT ous , RIEL\n",
      "/ ! : (\n",
      "\n",
      "\\ L uf - | pe yf\n",
      "\n",
      "t [ oertk ae live Rey thal\n",
      "\n",
      ")\n",
      "iL COU play . hav\n",
      "\n",
      "OU ind tet So EL\n",
      "\n",
      "\\ ‘ \\ t\n",
      "\n",
      "Ae che ene of wie day » YOU Aut all In\n",
      ", J /\n",
      "\n",
      "| a) Side\n",
      "AOELK an ancl eweretuva lly at Al pay otf if\n",
      "\n",
      "Could be im @ Year, tt could Un 3¢ Jen\n",
      "ALOT hea cl dU ey) ke al Ll If pay all\n",
      "i\n",
      "\n",
      "by ential ly , tt\n",
      "4 4\n"
     ]
    }
   ],
   "source": [
    "imag=Image.open(\"Folder/22.jpeg\")\n",
    "text=pytesseract.image_to_string(imag,lang=\"eng\")\n",
    "print(text)\n",
    "\n",
    "with open(\"text recognition21.txt\",\"w\") as s:\n",
    "    s.write(text)"
   ]
  },
  {
   "cell_type": "code",
   "execution_count": 15,
   "metadata": {},
   "outputs": [
    {
     "name": "stdout",
     "output_type": "stream",
     "text": [
      "Everybody wants 4 he famous , but nobody\n",
      "wants do do dhe wok -J dive by that.\n",
      "You. grind hore 40 yeu con play povd.\n",
      "At dhe end of the day , You put all the\n",
      "dook un, and ewentually ab'll pay of - tt\n",
      "tould he dn a yan, it could be un $0 yaw\n",
      "\n",
      "Eventually : APU hand werk will poy off ’\n"
     ]
    }
   ],
   "source": [
    "imag=Image.open(\"Floder/2.jpeg\")\n",
    "text=pytesseract.image_to_string(imag,lang=\"eng\")\n",
    "print(text)"
   ]
  },
  {
   "cell_type": "code",
   "execution_count": 16,
   "metadata": {},
   "outputs": [
    {
     "name": "stdout",
     "output_type": "stream",
     "text": [
      "Everybody wants 4 be famous , but nobody\n",
      "wants do do the werk - J dive by that.\n",
      "You. grind horrid do you can ploy povd.\n",
      "At dhe end of the day , You put all the\n",
      "dook un, and wentually ab'dl pay off . dt\n",
      "could be dn a yan, it could be un $0 yeas\n",
      "\n",
      "Eventually , Your hand wok uill pay off x\n"
     ]
    }
   ],
   "source": [
    "imag=Image.open(\"Floder/3.jpeg\")\n",
    "text=pytesseract.image_to_string(imag,lang=\"eng\")\n",
    "print(text)\n"
   ]
  },
  {
   "cell_type": "code",
   "execution_count": 17,
   "metadata": {},
   "outputs": [
    {
     "name": "stdout",
     "output_type": "stream",
     "text": [
      "Everybody wants to he famous » buck nobody\n",
      "wars do do the wok. 9 dive hy that.\n",
      "You. grind hand 40 Yeu can play evra.\n",
      "At dhe end of the day » You put all the\n",
      "domk un, and eentually at’dl pay of tt\n",
      "could be dn a year, it could he un 30 years\n",
      "\n",
      "Eventually , Youre hand werk vill poy off !\n"
     ]
    }
   ],
   "source": [
    "imag=Image.open(\"Floder/4.jpeg\")\n",
    "text=pytesseract.image_to_string(imag,lang=\"eng\")\n",
    "print(text)\n"
   ]
  },
  {
   "cell_type": "code",
   "execution_count": 18,
   "metadata": {},
   "outputs": [
    {
     "name": "stdout",
     "output_type": "stream",
     "text": [
      "Everybody wants to he famous » but Nobed,\n",
      "warts be do the wok. 9 dive hy that.\n",
      "You. grind hand so yeu con play paid.\n",
      "AL the end of the dew , You put all the\n",
      "Werk un , and eventually it'dl pay off tt\n",
      "Could bi vin a yearn, it could he un 30 yeas\n",
      "\n",
      "Eventually , Heute hand werk uvill pay off ’\n"
     ]
    }
   ],
   "source": [
    "imag=Image.open(\"Floder/5.jpeg\")\n",
    "text=pytesseract.image_to_string(imag,lang=\"eng\")\n",
    "print(text)\n"
   ]
  },
  {
   "cell_type": "code",
   "execution_count": null,
   "metadata": {},
   "outputs": [],
   "source": []
  }
 ],
 "metadata": {
  "kernelspec": {
   "display_name": "Python 3",
   "language": "python",
   "name": "python3"
  },
  "language_info": {
   "codemirror_mode": {
    "name": "ipython",
    "version": 3
   },
   "file_extension": ".py",
   "mimetype": "text/x-python",
   "name": "python",
   "nbconvert_exporter": "python",
   "pygments_lexer": "ipython3",
   "version": "3.7.3"
  }
 },
 "nbformat": 4,
 "nbformat_minor": 4
}
